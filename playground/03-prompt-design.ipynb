{
 "cells": [
  {
   "cell_type": "code",
   "execution_count": 1,
   "metadata": {},
   "outputs": [],
   "source": [
    "import openai"
   ]
  },
  {
   "cell_type": "code",
   "execution_count": 2,
   "metadata": {},
   "outputs": [],
   "source": [
    "from dotenv import dotenv_values\n",
    "config = dotenv_values(\".env\")"
   ]
  },
  {
   "cell_type": "code",
   "execution_count": 3,
   "metadata": {},
   "outputs": [],
   "source": [
    "openai.api_key = config[\"OPENAI_API_KEY\"]"
   ]
  },
  {
   "cell_type": "code",
   "execution_count": null,
   "metadata": {},
   "outputs": [],
   "source": [
    "# Add clear instructions\n",
    "\n",
    "prompt = \"\"\"\n",
    "### Instruction ###\n",
    "Complete the sentence:\n",
    "\n",
    "Humans are \n",
    "\"\"\"\n",
    "\n",
    "openai.Completion.create(\n",
    "    model=\"text-davinci-003\",\n",
    "    prompt=prompt,\n",
    "    max_tokens=100\n",
    ")"
   ]
  },
  {
   "cell_type": "code",
   "execution_count": null,
   "metadata": {},
   "outputs": [],
   "source": [
    "# Add a separator for instructions\n",
    "\n",
    "prompt = \"\"\"\n",
    "### Instruction ###\n",
    "Translate the text below to Hindi:\n",
    "\n",
    "Text: \"My name is Raj\"\n",
    "\"\"\"\n",
    "\n",
    "openai.Completion.create(\n",
    "    model=\"text-davinci-003\",\n",
    "    prompt=prompt,\n",
    "    max_tokens=100\n",
    ")"
   ]
  },
  {
   "cell_type": "code",
   "execution_count": null,
   "metadata": {},
   "outputs": [],
   "source": [
    "# Be precise\n",
    "\n",
    "prompt = \"\"\"\n",
    "Write me a 2-3 sentence explanation of the role of the Supreme court in US politics, geared towards someone with no prior knowledge of US politics.\n",
    "\"\"\"\n",
    "\n",
    "openai.Completion.create(\n",
    "    model=\"text-davinci-003\",\n",
    "    prompt=prompt,\n",
    "    max_tokens=100\n",
    ")"
   ]
  },
  {
   "cell_type": "code",
   "execution_count": null,
   "metadata": {},
   "outputs": [],
   "source": [
    "# Be specific about your desired output\n",
    "## CSV\n",
    "\n",
    "prompt = \"\"\"\n",
    "Extract the place names in the following\n",
    "\n",
    "Desired format:\n",
    "Places: <comma_separated_list_of_places>\n",
    "\n",
    "Input: \"Cities that have experienced significant issues related to Airbnb and short-term rentals include popular tourist destinations such as Paris, Barcelona, and Amsterdam, as well as major cities like New York, San Francisco, and Los Angeles. In these cities, there have been concerns over the impact of Airbnb on local housing availability and affordability, as well as the potential for negative effects on neighborhoods and communities.\"\n",
    "\n",
    "\"\"\"\n",
    "\n",
    "openai.Completion.create(\n",
    "    model=\"text-davinci-003\",\n",
    "    prompt=prompt,\n",
    "    max_tokens=100\n",
    ")"
   ]
  },
  {
   "cell_type": "code",
   "execution_count": null,
   "metadata": {},
   "outputs": [],
   "source": [
    "## JSON array\n",
    "\n",
    "prompt = \"\"\"\n",
    "Extract the place names in the following\n",
    "\n",
    "Desired format:\n",
    "JSON array of place names\n",
    "\n",
    "Input: \"Cities that have experienced significant issues related to Airbnb and short-term rentals include popular tourist destinations such as Paris, Barcelona, and Amsterdam, as well as major cities like New York, San Francisco, and Los Angeles. In these cities, there have been concerns over the impact of Airbnb on local housing availability and affordability, as well as the potential for negative effects on neighborhoods and communities.\"\n",
    "\n",
    "\"\"\"\n",
    "\n",
    "openai.Completion.create(\n",
    "    model=\"text-davinci-003\",\n",
    "    prompt=prompt,\n",
    "    max_tokens=100\n",
    ")"
   ]
  },
  {
   "cell_type": "code",
   "execution_count": null,
   "metadata": {},
   "outputs": [],
   "source": [
    "## JSON object\n",
    "\n",
    "prompt = \"\"\"\n",
    "Generate a list of the top 5 most populated countries on earth with their population\n",
    "\n",
    "Desired format: JSON object with country name as the key and population as the value\n",
    "\"\"\"\n",
    "\n",
    "openai.Completion.create(\n",
    "    model=\"text-davinci-003\",\n",
    "    prompt=prompt,\n",
    "    max_tokens=100\n",
    ")"
   ]
  },
  {
   "cell_type": "code",
   "execution_count": null,
   "metadata": {},
   "outputs": [],
   "source": [
    "# Summarize\n",
    "\n",
    "prompt = \"\"\"\n",
    "Summarize the following text in 2-3 sentences\n",
    "\n",
    "Input:\n",
    "Archaeology or archeology[a] is the study of human activity through the recovery and analysis of material culture. The archaeological record consists of artifacts, architecture, biofacts or ecofacts, sites, and cultural landscapes. Archaeology can be considered both a social science and a branch of the humanities.[1][2] It is usually considered an independent academic discipline, but may also be classified as part of anthropology (in North America – the four-field approach), history or geography.[3]\n",
    "\n",
    "Archaeologists study human prehistory and history, from the development of the first stone tools at Lomekwi in East Africa 3.3 million years ago up until recent decades.[4] Archaeology is distinct from palaeontology, which is the study of fossil remains. Archaeology is particularly important for learning about prehistoric societies, for which, by definition, there are no written records. Prehistory includes over 99% of the human past, from the Paleolithic until the advent of literacy in societies around the world.[1] Archaeology has various goals, which range from understanding culture history to reconstructing past lifeways to documenting and explaining changes in human societies through time.[5] Derived from the Greek, the term archaeology literally means \"the study of ancient history\".[6]\n",
    "\n",
    "The discipline involves surveying, excavation, and eventually analysis of data collected, to learn more about the past. In broad scope, archaeology relies on cross-disciplinary research.\n",
    "\n",
    "Archaeology developed out of antiquarianism in Europe during the 19th century, and has since become a discipline practiced around the world. Archaeology has been used by nation-states to create particular visions of the past.[7][8] Since its early development, various specific sub-disciplines of archaeology have developed, including maritime archaeology, feminist archaeology, and archaeoastronomy, and numerous different scientific techniques have been developed to aid archaeological investigation. Nonetheless, today, archaeologists face many problems, such as dealing with pseudoarchaeology, the looting of artifacts,[9][10] a lack of public interest, and opposition to the excavation of human remains.\n",
    "\"\"\"\n",
    "\n",
    "openai.Completion.create(\n",
    "    model=\"text-davinci-003\",\n",
    "    prompt=prompt,\n",
    "    max_tokens=100\n",
    ")"
   ]
  },
  {
   "cell_type": "code",
   "execution_count": null,
   "metadata": {},
   "outputs": [],
   "source": [
    "# Extract\n",
    "\n",
    "prompt = \"\"\"\n",
    "Extract the dishes from the restaurant review below:\n",
    "\n",
    "Desired format: JSON array of dishes\n",
    "\n",
    "It's been 5 years since I left SF and my Hayes Valley apartment right across the street from this cafe and I still think about the Pierogies and Honey cake EVERY SINGLE DAY!\n",
    "\n",
    "My daughter and I frequently visited this establishment so many fond memories.\n",
    "\n",
    "This place is amazing!\n",
    "\"\"\"\n",
    "\n",
    "openai.Completion.create(\n",
    "    model=\"text-davinci-003\",\n",
    "    prompt=prompt,\n",
    "    max_tokens=100\n",
    ")"
   ]
  },
  {
   "cell_type": "code",
   "execution_count": null,
   "metadata": {},
   "outputs": [],
   "source": [
    "# Analyze sentiments\n",
    "## Negative\n",
    "\n",
    "prompt = \"\"\"\n",
    "Classify the following text's sentiment as positive, neutral, or negative\n",
    "\n",
    "Input:\n",
    "With it being listed as one of the Essential bakeries on the Eater list of bakeries in SF I came with quite an expectation but the place let me down in multiple ways. The menu had little variety and the items were hardly interesting. The pastry we had was also not that great. And for the price they charge the portion sizes are ridiculously small.\n",
    "\n",
    "Skip this place if you are looking for a hearty breakfast or brunch\n",
    "\"\"\"\n",
    "\n",
    "openai.Completion.create(\n",
    "    model=\"text-davinci-003\",\n",
    "    prompt=prompt,\n",
    "    max_tokens=100\n",
    ")"
   ]
  },
  {
   "cell_type": "code",
   "execution_count": null,
   "metadata": {},
   "outputs": [],
   "source": [
    "## Positive\n",
    "\n",
    "prompt = \"\"\"\n",
    "Classify the following text's sentiment as positive, neutral, or negative\n",
    "\n",
    "Input:\n",
    "A fantastic little cafe (caution your orders add up fast). Serves Hungarian food but I would say its a pretty accessable menu for most people. I thought it was just central european food until i looked in yelp.\n",
    "My favorite things were the oolong tea, the honey cake and the poerogis. We also got the smoked salmon bagel and the sausage with sauerkaut which we both enjoyed too.\n",
    "\"\"\"\n",
    "\n",
    "openai.Completion.create(\n",
    "    model=\"text-davinci-003\",\n",
    "    prompt=prompt,\n",
    "    max_tokens=100\n",
    ")"
   ]
  },
  {
   "cell_type": "code",
   "execution_count": null,
   "metadata": {},
   "outputs": [],
   "source": [
    "## Neutral\n",
    "\n",
    "prompt = \"\"\"\n",
    "Classify the following text's sentiment as positive, neutral, or negative\n",
    "\n",
    "Input:\n",
    "My breakfast was super pricey for the amount of food, and sadly tasted better than it looked (as you can see from my photo, it _looked_ fabulous). The place is super cute, though, and I'd go back to sample the pastries.\n",
    "\"\"\"\n",
    "\n",
    "openai.Completion.create(\n",
    "    model=\"text-davinci-003\",\n",
    "    prompt=prompt,\n",
    "    max_tokens=100\n",
    ")"
   ]
  },
  {
   "cell_type": "code",
   "execution_count": null,
   "metadata": {},
   "outputs": [],
   "source": [
    "# Zero shot vs. few-shot prompting\n",
    "\n",
    "prompt = \"\"\"\n",
    "Classify the following text's sentiment as positive, neutral, or negative\n",
    "\n",
    "Desired format: -1 for negative, 0 for neutral, and 1 for positive\n",
    "\n",
    "Input: \n",
    "I love you so much\n",
    "Sentiment: 1\n",
    "\n",
    "Input:\n",
    "With it being listed as one of the Essential bakeries on the Eater list of bakeries in SF I came with quite an expectation but the place let me down in multiple ways. The menu had little variety and the items were hardly interesting. The pastry we had was also not that great. And for the price they charge the portion sizes are ridiculously small.\n",
    "\n",
    "Skip this place if you are looking for a hearty breakfast or brunch\n",
    "Sentiment: \n",
    "\"\"\"\n",
    "\n",
    "openai.Completion.create(\n",
    "    model=\"text-davinci-003\",\n",
    "    prompt=prompt,\n",
    "    max_tokens=100\n",
    ")"
   ]
  },
  {
   "cell_type": "code",
   "execution_count": null,
   "metadata": {},
   "outputs": [],
   "source": [
    "# Step by step prompting\n",
    "\n",
    "prompt = \"\"\"\n",
    "Let's think step by step\n",
    "\n",
    "Alice is 7 years older than Beth, who is 5 years older than Erica. What is the difference between the ages of Alice and Erica, if Erica is 30 years old?\n",
    "\"\"\"\n",
    "\n",
    "openai.Completion.create(\n",
    "    model=\"text-davinci-003\",\n",
    "    prompt=prompt,\n",
    "    max_tokens=100\n",
    ")"
   ]
  },
  {
   "cell_type": "code",
   "execution_count": null,
   "metadata": {},
   "outputs": [],
   "source": [
    "# Text transformation prompts\n",
    "\n",
    "prompt = \"\"\"\n",
    "Translate the following text to Spanish, Italian, and Hindi.\n",
    "\n",
    "The output should be a JSON object\n",
    "\n",
    "Text: My favorite color is blue\n",
    "\"\"\"\n",
    "\n",
    "openai.Completion.create(\n",
    "    model=\"text-davinci-003\",\n",
    "    prompt=prompt,\n",
    "    max_tokens=100\n",
    ")"
   ]
  },
  {
   "cell_type": "code",
   "execution_count": null,
   "metadata": {},
   "outputs": [],
   "source": [
    "prompt = \"\"\"\n",
    "Transform the following text to 3rd person female in the future:\n",
    "\n",
    "I lay down on the grass, which was very short and soft, where I slept sounder than ever I remember to have done in my life, and, as I reckoned, above nine hours; for when I awaked, it was just daylight. \n",
    "\"\"\"\n",
    "\n",
    "openai.Completion.create(\n",
    "    model=\"text-davinci-003\",\n",
    "    prompt=prompt,\n",
    "    max_tokens=100\n",
    ")"
   ]
  },
  {
   "cell_type": "code",
   "execution_count": null,
   "metadata": {},
   "outputs": [],
   "source": [
    "prompt = \"\"\"\n",
    "Transform each movie title to emoji\n",
    "\n",
    "The Lion king\n",
    "\"\"\"\n",
    "\n",
    "openai.Completion.create(\n",
    "    model=\"text-davinci-003\",\n",
    "    prompt=prompt,\n",
    "    max_tokens=100\n",
    ")"
   ]
  }
 ],
 "metadata": {
  "kernelspec": {
   "display_name": ".venv",
   "language": "python",
   "name": "python3"
  },
  "language_info": {
   "codemirror_mode": {
    "name": "ipython",
    "version": 3
   },
   "file_extension": ".py",
   "mimetype": "text/x-python",
   "name": "python",
   "nbconvert_exporter": "python",
   "pygments_lexer": "ipython3",
   "version": "3.10.5"
  },
  "orig_nbformat": 4
 },
 "nbformat": 4,
 "nbformat_minor": 2
}
