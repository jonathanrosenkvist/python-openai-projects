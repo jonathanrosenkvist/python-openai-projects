{
 "cells": [
  {
   "cell_type": "code",
   "execution_count": 6,
   "metadata": {},
   "outputs": [
    {
     "name": "stdout",
     "output_type": "stream",
     "text": [
      "Files copied and renamed successfully!\n"
     ]
    }
   ],
   "source": [
    "import os\n",
    "import shutil\n",
    "\n",
    "def rename_and_copy_files(root_dir):\n",
    "    new_dir_name = \"ready to upload\"\n",
    "    new_dir_path = os.path.join(root_dir, new_dir_name)\n",
    "    \n",
    "    if not os.path.exists(new_dir_path):\n",
    "        os.makedirs(new_dir_path)\n",
    "    \n",
    "    for parent_dir in os.listdir(root_dir):\n",
    "        parent_dir_path = os.path.join(root_dir, parent_dir)\n",
    "        \n",
    "        if os.path.isdir(parent_dir_path) and parent_dir != new_dir_name:\n",
    "            for filename in os.listdir(parent_dir_path):\n",
    "                if filename.endswith(\".txt\"):\n",
    "                    new_filename = f\"{parent_dir}_{filename}\"\n",
    "                    old_file_path = os.path.join(parent_dir_path, filename)\n",
    "                    new_file_path = os.path.join(new_dir_path, new_filename)\n",
    "                    \n",
    "                    shutil.copy(old_file_path, new_file_path)\n",
    "    \n",
    "    print(\"Files copied and renamed successfully!\")\n",
    "\n",
    "if __name__ == \"__main__\":\n",
    "    root_directory = \"folders/texts\"  # Replace this with the path to your root directory\n",
    "    rename_and_copy_files(root_directory)\n"
   ]
  },
  {
   "cell_type": "code",
   "execution_count": null,
   "metadata": {},
   "outputs": [],
   "source": []
  }
 ],
 "metadata": {
  "kernelspec": {
   "display_name": ".venv",
   "language": "python",
   "name": "python3"
  },
  "language_info": {
   "codemirror_mode": {
    "name": "ipython",
    "version": 3
   },
   "file_extension": ".py",
   "mimetype": "text/x-python",
   "name": "python",
   "nbconvert_exporter": "python",
   "pygments_lexer": "ipython3",
   "version": "3.10.5"
  },
  "orig_nbformat": 4
 },
 "nbformat": 4,
 "nbformat_minor": 2
}
