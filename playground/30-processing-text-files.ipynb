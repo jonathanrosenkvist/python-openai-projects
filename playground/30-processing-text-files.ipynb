{
 "cells": [
  {
   "cell_type": "code",
   "execution_count": 1,
   "metadata": {},
   "outputs": [],
   "source": [
    "import openai"
   ]
  },
  {
   "cell_type": "code",
   "execution_count": 2,
   "metadata": {},
   "outputs": [],
   "source": [
    "from dotenv import dotenv_values\n",
    "config = dotenv_values(\".env\")"
   ]
  },
  {
   "cell_type": "code",
   "execution_count": 3,
   "metadata": {},
   "outputs": [],
   "source": [
    "openai.api_key = config[\"OPENAI_API_KEY\"]"
   ]
  },
  {
   "cell_type": "code",
   "execution_count": 4,
   "metadata": {},
   "outputs": [
    {
     "name": "stdout",
     "output_type": "stream",
     "text": [
      "Summarized text:\n",
      "\n",
      "  Atlas Shrugged is a novel by Ayn Rand, exploring philosophical themes of reason, individualism, and capitalism, depicting the struggles of Dagny Taggart and Hank Rearden against government coercion, and featuring a mysterious figure named John Galt, inspiring a strike of productive individuals against the looters.\n"
     ]
    }
   ],
   "source": [
    "\n",
    "input_text = \"\"\n",
    "\n",
    "with open(\"input/text.txt\", \"r\") as file:\n",
    "    input_text = file.read()\n",
    "\n",
    "response = openai.ChatCompletion.create(\n",
    "    model=\"gpt-3.5-turbo\",\n",
    "    messages=[{\"role\": \"system\", \"content\": \"You are a text summarizer bot. Your goal is to summarize in a single sentence the text provided by the user.\"}, {\"role\": \"user\", \"content\": input_text}],\n",
    "    max_tokens=100\n",
    ")\n",
    "\n",
    "ai_response = response.choices[0].message.content\n",
    "print(\"Summarized text:\\n\\n \", ai_response)\n",
    "\n",
    "with open(\"output/summary.txt\", \"w\") as file:\n",
    "    file.write(ai_response)"
   ]
  },
  {
   "cell_type": "code",
   "execution_count": null,
   "metadata": {},
   "outputs": [],
   "source": []
  }
 ],
 "metadata": {
  "kernelspec": {
   "display_name": ".venv",
   "language": "python",
   "name": "python3"
  },
  "language_info": {
   "codemirror_mode": {
    "name": "ipython",
    "version": 3
   },
   "file_extension": ".py",
   "mimetype": "text/x-python",
   "name": "python",
   "nbconvert_exporter": "python",
   "pygments_lexer": "ipython3",
   "version": "3.10.5"
  },
  "orig_nbformat": 4
 },
 "nbformat": 4,
 "nbformat_minor": 2
}
