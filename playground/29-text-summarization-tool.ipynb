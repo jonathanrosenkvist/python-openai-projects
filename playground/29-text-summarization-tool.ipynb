{
 "cells": [
  {
   "cell_type": "code",
   "execution_count": 1,
   "metadata": {},
   "outputs": [],
   "source": [
    "import openai"
   ]
  },
  {
   "cell_type": "code",
   "execution_count": 2,
   "metadata": {},
   "outputs": [],
   "source": [
    "from dotenv import dotenv_values\n",
    "config = dotenv_values(\".env\")"
   ]
  },
  {
   "cell_type": "code",
   "execution_count": 3,
   "metadata": {},
   "outputs": [],
   "source": [
    "openai.api_key = config[\"OPENAI_API_KEY\"]"
   ]
  },
  {
   "cell_type": "code",
   "execution_count": 5,
   "metadata": {},
   "outputs": [
    {
     "name": "stdout",
     "output_type": "stream",
     "text": [
      "Summarized text:\n",
      "\n",
      "  Atlas Shrugged is a novel by Ayn Rand that explores philosophical themes such as reason, individualism, and capitalism, depicting a dystopian United States where private businesses suffer under increasingly burdensome regulations and culminating in the strikers planning to build a new capitalist society based on John Galt's philosophy.\n"
     ]
    }
   ],
   "source": [
    "\n",
    "input_text = input(\"Enter text that should be summarized: \")\n",
    "\n",
    "response = openai.ChatCompletion.create(\n",
    "    model=\"gpt-3.5-turbo\",\n",
    "    messages=[{\"role\": \"system\", \"content\": \"You are a text summarizer bot. Your goal is to summarize in a single sentence the text provided by the user.\"}, {\"role\": \"user\", \"content\": input_text}],\n",
    "    max_tokens=100\n",
    ")\n",
    "\n",
    "ai_response = response.choices[0].message.content\n",
    "print(\"Summarized text:\\n\\n \", ai_response)"
   ]
  },
  {
   "cell_type": "code",
   "execution_count": null,
   "metadata": {},
   "outputs": [],
   "source": []
  }
 ],
 "metadata": {
  "kernelspec": {
   "display_name": ".venv",
   "language": "python",
   "name": "python3"
  },
  "language_info": {
   "codemirror_mode": {
    "name": "ipython",
    "version": 3
   },
   "file_extension": ".py",
   "mimetype": "text/x-python",
   "name": "python",
   "nbconvert_exporter": "python",
   "pygments_lexer": "ipython3",
   "version": "3.10.5"
  },
  "orig_nbformat": 4
 },
 "nbformat": 4,
 "nbformat_minor": 2
}
