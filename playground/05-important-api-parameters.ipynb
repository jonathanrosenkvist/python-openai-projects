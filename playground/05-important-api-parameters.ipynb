{
 "cells": [
  {
   "cell_type": "code",
   "execution_count": 1,
   "metadata": {},
   "outputs": [],
   "source": [
    "import openai"
   ]
  },
  {
   "cell_type": "code",
   "execution_count": 9,
   "metadata": {},
   "outputs": [],
   "source": [
    "from dotenv import dotenv_values\n",
    "config = dotenv_values(\".env\")"
   ]
  },
  {
   "cell_type": "code",
   "execution_count": 10,
   "metadata": {},
   "outputs": [],
   "source": [
    "openai.api_key = config[\"OPENAI_API_KEY\"]"
   ]
  },
  {
   "cell_type": "code",
   "execution_count": null,
   "metadata": {},
   "outputs": [],
   "source": [
    "# Temperature\n",
    "\n",
    "openai.Completion.create(\n",
    "    model=\"text-davinci-003\",\n",
    "    prompt=\"Tell me a story\",\n",
    "    max_tokens=100,\n",
    "    # temperature=2 # don't go above 1, weird responses\n",
    "    temperature=0 # less creative, more coherent\n",
    ")"
   ]
  },
  {
   "cell_type": "code",
   "execution_count": null,
   "metadata": {},
   "outputs": [],
   "source": [
    "# Temperature\n",
    "\n",
    "openai.Completion.create(\n",
    "    model=\"text-davinci-003\",\n",
    "    prompt=\"My favorite animal is a \",\n",
    "    max_tokens=100,\n",
    "    # temperature=2 # don't go above 1, weird responses\n",
    "    # temperature=0 # less creative, more coherent # dogs\n",
    "    temperature=0.7 # monkeys\n",
    ")"
   ]
  },
  {
   "cell_type": "code",
   "execution_count": null,
   "metadata": {},
   "outputs": [],
   "source": [
    "# Top P (set size to pick from)\n",
    "\n",
    "openai.Completion.create(\n",
    "    model=\"text-davinci-003\",\n",
    "    prompt=\"My favorite food is \",\n",
    "    max_tokens=100,\n",
    "    # top_p=0 # deterministic output\n",
    "    top_p=1 # more likely to see a different result\n",
    ")"
   ]
  },
  {
   "cell_type": "code",
   "execution_count": null,
   "metadata": {},
   "outputs": [],
   "source": [
    "# Frequency penalty (decrease the likelihood to repeat the same line)\n",
    "\n",
    "openai.Completion.create(\n",
    "    model=\"text-davinci-003\",\n",
    "    prompt=\"The first 15 elements are Hydrogen, Helium, \",\n",
    "    max_tokens=100,\n",
    "    # frequency_penalty=-2 # encourages reuse of tokens\n",
    "    frequency_penalty=2 # starts to remove commas in our list \n",
    "    # 0.1 - 1 to reduce repetitive samples\n",
    "    # further, it can lead to bad quality outputs\n",
    ")"
   ]
  },
  {
   "cell_type": "code",
   "execution_count": null,
   "metadata": {},
   "outputs": [],
   "source": [
    "# Presence penalty (increase the likelihood to talk about new topics, not proportional)\n",
    "\n",
    "openai.Completion.create(\n",
    "    model=\"text-davinci-003\",\n",
    "    prompt=\"The first 15 elements are Hydrogen, Helium, \",\n",
    "    max_tokens=100,\n",
    "    # presence_penalty=-2 # encourages to keep the same topic\n",
    "    presence_penalty=2 # won't remove commas, it's a flat penalty\n",
    ")"
   ]
  },
  {
   "cell_type": "code",
   "execution_count": 12,
   "metadata": {},
   "outputs": [
    {
     "name": "stdout",
     "output_type": "stream",
     "text": [
      "\n",
      "\n",
      "\n",
      "Foggy morning commutes are such"
     ]
    }
   ],
   "source": [
    "# Stream (receive small pieces of data)\n",
    "\n",
    "for data in openai.Completion.create(\n",
    "    model=\"text-davinci-003\",\n",
    "    prompt=\"Write me a poem about foggy morning commutes\",\n",
    "    max_tokens=10,\n",
    "    stream=True\n",
    "):\n",
    "    print(data.choices[0].text, end=\"\", flush=True)"
   ]
  }
 ],
 "metadata": {
  "kernelspec": {
   "display_name": ".venv",
   "language": "python",
   "name": "python3"
  },
  "language_info": {
   "codemirror_mode": {
    "name": "ipython",
    "version": 3
   },
   "file_extension": ".py",
   "mimetype": "text/x-python",
   "name": "python",
   "nbconvert_exporter": "python",
   "pygments_lexer": "ipython3",
   "version": "3.10.5"
  },
  "orig_nbformat": 4
 },
 "nbformat": 4,
 "nbformat_minor": 2
}
