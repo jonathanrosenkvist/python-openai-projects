{
 "cells": [
  {
   "cell_type": "code",
   "execution_count": 5,
   "metadata": {},
   "outputs": [],
   "source": [
    "import json\n",
    "import openai"
   ]
  },
  {
   "cell_type": "code",
   "execution_count": 2,
   "metadata": {},
   "outputs": [],
   "source": [
    "from dotenv import dotenv_values\n",
    "config = dotenv_values(\".env\")"
   ]
  },
  {
   "cell_type": "code",
   "execution_count": 3,
   "metadata": {},
   "outputs": [],
   "source": [
    "openai.api_key = config[\"OPENAI_API_KEY\"]"
   ]
  },
  {
   "cell_type": "code",
   "execution_count": 7,
   "metadata": {},
   "outputs": [],
   "source": [
    "def get_playlist(prompt, count=5):\n",
    "    example_json= \"\"\"\n",
    "    [\n",
    "    {\"song\": \"Happy\", \"artist\": \"Pharrell Williams\"},\n",
    "    {\"song\": \"Don't Stop Me Now\", \"artist\": \"Queen\"},\n",
    "    {\"song\": \"Walking on Sunshine\", \"artist\": \"Katrina and The Waves\"},\n",
    "    {\"song\": \"I Wanna Dance with Somebody\", \"artist\": \"Whitney Houston\"},\n",
    "    {\"song\": \"Can't Stop the Feeling!\", \"artist\": \"Justin Timberlake\"},\n",
    "    {\"song\": \"Good Vibrations\", \"artist\": \"The Beach Boys\"},\n",
    "    {\"song\": \"I Gotta Feeling\", \"artist\": \"The Black Eyed Peas\"},\n",
    "    {\"song\": \"Dancing Queen\", \"artist\": \"ABBA\"},\n",
    "    {\"song\": \"Happy Together\", \"artist\": \"The Turtles\"},\n",
    "    {\"song\": \"Uptown Funk\", \"artist\": \"Mark Ronson ft. Bruno Mars\"}\n",
    "    ]\n",
    "    \"\"\"\n",
    "\n",
    "    messages = [\n",
    "        { \"role\": \"system\", \"content\": \"\"\"You are a helpful playlist generating assistant.\n",
    "        You should generate a list of songs and their artists according to a text prompt.\n",
    "        You should return a JSON array, where each element follows this format:\n",
    "        {\"song\": <song_title>, \"artist\": <artist_name>}\n",
    "        \"\"\" },\n",
    "        { \"role\": \"user\", \"content\": \"Generate a playlist of 10 songs based on this prompt: super super happy songs\" },\n",
    "        { \"role\": \"assistant\", \"content\": example_json },\n",
    "        { \"role\": \"user\", \"content\": f\"Generate a playlist of {count} songs based on this prompt: {prompt}\" },\n",
    "    ]\n",
    "\n",
    "    response = openai.ChatCompletion.create(\n",
    "        model=\"gpt-3.5-turbo\",\n",
    "        messages=messages,\n",
    "        max_tokens=100\n",
    "    )\n",
    "\n",
    "    playlist = json.loads(response.choices[0].message.content)\n",
    "    print(playlist)"
   ]
  },
  {
   "cell_type": "code",
   "execution_count": 8,
   "metadata": {},
   "outputs": [
    {
     "name": "stdout",
     "output_type": "stream",
     "text": [
      "[{'song': 'Midnight City', 'artist': 'M83'}, {'song': 'Nightcall', 'artist': 'Kavinsky'}]\n"
     ]
    }
   ],
   "source": [
    "get_playlist(\"songs to drive at night to\", 2)"
   ]
  }
 ],
 "metadata": {
  "kernelspec": {
   "display_name": ".venv",
   "language": "python",
   "name": "python3"
  },
  "language_info": {
   "codemirror_mode": {
    "name": "ipython",
    "version": 3
   },
   "file_extension": ".py",
   "mimetype": "text/x-python",
   "name": "python",
   "nbconvert_exporter": "python",
   "pygments_lexer": "ipython3",
   "version": "3.10.5"
  },
  "orig_nbformat": 4
 },
 "nbformat": 4,
 "nbformat_minor": 2
}
