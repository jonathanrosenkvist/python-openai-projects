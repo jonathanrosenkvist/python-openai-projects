{
 "cells": [
  {
   "cell_type": "code",
   "execution_count": 1,
   "id": "39d7ac80",
   "metadata": {},
   "outputs": [],
   "source": [
    "import openai"
   ]
  },
  {
   "cell_type": "code",
   "execution_count": 2,
   "id": "96de38cc",
   "metadata": {},
   "outputs": [],
   "source": [
    "from dotenv import dotenv_values"
   ]
  },
  {
   "cell_type": "code",
   "execution_count": 3,
   "id": "3b630436",
   "metadata": {},
   "outputs": [],
   "source": [
    "config = dotenv_values(\".env\")"
   ]
  },
  {
   "cell_type": "code",
   "execution_count": 4,
   "id": "b3cb65c7",
   "metadata": {},
   "outputs": [],
   "source": [
    "openai.api_key = config[\"OPENAI_API_KEY\"]"
   ]
  },
  {
   "cell_type": "code",
   "execution_count": 5,
   "id": "11746170",
   "metadata": {},
   "outputs": [],
   "source": [
    "# Record Some audio\n",
    "# pyaudio is tough to install, consider using https://voice-recorder-online.com/ instead to record a sample.\n",
    "\n",
    "# import wave\n",
    "# import sys\n",
    "# import pyaudio\n",
    "\n",
    "# CHUNK = 1024\n",
    "# FORMAT = pyaudio.paInt16\n",
    "# CHANNELS = 1 if sys.platform == \"darwin\" else 2\n",
    "# RATE = 44100\n",
    "\n",
    "\n",
    "# def record_audio(seconds: int):\n",
    "#     output_path = \"output.wav\"\n",
    "#     with wave.open(output_path, \"wb\") as wf:\n",
    "#         p = pyaudio.PyAudio()\n",
    "#         wf.setnchannels(CHANNELS)\n",
    "#         wf.setsampwidth(p.get_sample_size(FORMAT))\n",
    "#         wf.setframerate(RATE)\n",
    "\n",
    "#         stream = p.open(format=FORMAT, channels=CHANNELS, rate=RATE, input=True)\n",
    "\n",
    "#         print(\"Recording...\")\n",
    "#         for index in range(0, RATE // CHUNK * seconds):\n",
    "#             if index % (RATE // CHUNK) == 0:\n",
    "#                 print(f\"{index // (RATE // CHUNK)} / {seconds}s\")\n",
    "#             wf.writeframes(stream.read(CHUNK))\n",
    "#         print(\"Done\")\n",
    "\n",
    "#         stream.close()\n",
    "#         p.terminate()\n",
    "#     print(f\"File saved at {output_path}\")\n",
    "#     return output_path"
   ]
  },
  {
   "cell_type": "code",
   "execution_count": null,
   "id": "c31322fa",
   "metadata": {},
   "outputs": [],
   "source": [
    "# record_audio(10)"
   ]
  },
  {
   "cell_type": "code",
   "execution_count": 9,
   "id": "9f7cbe12",
   "metadata": {},
   "outputs": [],
   "source": [
    "audio_file = open(\"audio/output.wav\", \"rb\")\n",
    "\n",
    "# from Mobydick by Herman Melville https://www.gutenberg.org/cache/epub/2701/pg2701-images.html\n",
    "# Call me Ishmael. Some years ago—never mind how long precisely—having little or no money in my purse"
   ]
  },
  {
   "cell_type": "code",
   "execution_count": 6,
   "id": "d9a80031",
   "metadata": {},
   "outputs": [],
   "source": [
    "response = openai.Audio.transcribe(\n",
    "    model=\"whisper-1\",\n",
    "    file=audio_file\n",
    ")"
   ]
  },
  {
   "cell_type": "code",
   "execution_count": 7,
   "id": "12f1be33",
   "metadata": {},
   "outputs": [
    {
     "data": {
      "text/plain": [
       "'Call me Ishmael. Some years ago, never mind, how long precisely, I think a return of normal day in my purse.'"
      ]
     },
     "execution_count": 7,
     "metadata": {},
     "output_type": "execute_result"
    }
   ],
   "source": [
    "response[\"text\"]"
   ]
  },
  {
   "attachments": {},
   "cell_type": "markdown",
   "id": "b647223c",
   "metadata": {},
   "source": [
    "## Providing a prompt to Whisper"
   ]
  },
  {
   "cell_type": "code",
   "execution_count": 10,
   "id": "c0af9906",
   "metadata": {},
   "outputs": [],
   "source": [
    "response_with_prompt = openai.Audio.transcribe(\n",
    "    model=\"whisper-1\",\n",
    "    file=audio_file,\n",
    "    prompt=\"First sentence from Mobydick by Herman Melville\"\n",
    ")"
   ]
  },
  {
   "cell_type": "code",
   "execution_count": 11,
   "id": "7a216aea",
   "metadata": {},
   "outputs": [
    {
     "data": {
      "text/plain": [
       "'Call me Ishmael. Some years ago, never mind, how long precisely, I think Richard had no money in my purse.'"
      ]
     },
     "execution_count": 11,
     "metadata": {},
     "output_type": "execute_result"
    }
   ],
   "source": [
    "response_with_prompt[\"text\"]"
   ]
  },
  {
   "attachments": {},
   "cell_type": "markdown",
   "id": "6514d747",
   "metadata": {},
   "source": [
    "## Translating audio with Whisper"
   ]
  },
  {
   "cell_type": "code",
   "execution_count": 12,
   "id": "187169db",
   "metadata": {},
   "outputs": [],
   "source": [
    "italian_news =  open(\"audio/italian_news.wav\", \"rb\")\n"
   ]
  },
  {
   "cell_type": "code",
   "execution_count": 13,
   "id": "1cc3bd34",
   "metadata": {},
   "outputs": [],
   "source": [
    "italian_response = openai.Audio.translate(\n",
    "    model=\"whisper-1\",\n",
    "    file=italian_news\n",
    ")"
   ]
  },
  {
   "cell_type": "code",
   "execution_count": 14,
   "id": "823a563f",
   "metadata": {},
   "outputs": [
    {
     "data": {
      "text/plain": [
       "'While the alarm for the virus in China is growing, in Italy only last week almost 500,000 cases of seasonal flu were reported, which is therefore reaching its peak in mid-January, as was expected by the Ministry of Health. So far, Italians have been affected by almost 3 million cases.'"
      ]
     },
     "execution_count": 14,
     "metadata": {},
     "output_type": "execute_result"
    }
   ],
   "source": [
    "italian_response[\"text\"]"
   ]
  },
  {
   "cell_type": "code",
   "execution_count": 15,
   "id": "df28d2b9",
   "metadata": {},
   "outputs": [],
   "source": [
    "chinese_news =  open(\"audio/chinese_news.wav\", \"rb\")"
   ]
  },
  {
   "cell_type": "code",
   "execution_count": 16,
   "id": "b6f23cec",
   "metadata": {},
   "outputs": [],
   "source": [
    "chinese_response = openai.Audio.translate(\n",
    "    model=\"whisper-1\",\n",
    "    file=chinese_news\n",
    ")"
   ]
  },
  {
   "cell_type": "code",
   "execution_count": 17,
   "id": "64dffde4",
   "metadata": {},
   "outputs": [
    {
     "data": {
      "text/plain": [
       "\"Yesterday, the Central Meteorological Observatory continued to release the cold blue forecast, the new low since the winter of this year. The cold weather in this round lasts a long time and has a wide range of effects. However, the cold weather still can't stop people's enthusiasm. The winter scenery attracts many tourists. This article says that the cold weather has brought a lot of people to the city.\""
      ]
     },
     "execution_count": 17,
     "metadata": {},
     "output_type": "execute_result"
    }
   ],
   "source": [
    "chinese_response[\"text\"]"
   ]
  },
  {
   "attachments": {},
   "cell_type": "markdown",
   "id": "49120312",
   "metadata": {},
   "source": [
    "## Transcribing non-English audio"
   ]
  },
  {
   "cell_type": "code",
   "execution_count": 18,
   "id": "bdf1e6b6",
   "metadata": {},
   "outputs": [],
   "source": [
    "french_file =  open(\"audio/french.wav\", \"rb\")"
   ]
  },
  {
   "cell_type": "code",
   "execution_count": 19,
   "id": "b1290462",
   "metadata": {},
   "outputs": [],
   "source": [
    "french_response = openai.Audio.transcribe(\n",
    "    model=\"whisper-1\",\n",
    "    file=french_file\n",
    ")"
   ]
  },
  {
   "cell_type": "code",
   "execution_count": 20,
   "id": "8bdfa764",
   "metadata": {},
   "outputs": [
    {
     "data": {
      "text/plain": [
       "\"Bonjour, je m'appelle Colt Steel et je voudrais un croissant.\""
      ]
     },
     "execution_count": 20,
     "metadata": {},
     "output_type": "execute_result"
    }
   ],
   "source": [
    "french_response[\"text\"]"
   ]
  },
  {
   "attachments": {},
   "cell_type": "markdown",
   "id": "6d2c274b",
   "metadata": {},
   "source": [
    "## Running the Whisper model locally"
   ]
  },
  {
   "cell_type": "code",
   "execution_count": null,
   "id": "0f9110ad",
   "metadata": {},
   "outputs": [],
   "source": [
    "import whisper"
   ]
  },
  {
   "cell_type": "code",
   "execution_count": 2,
   "id": "a3e2e14c",
   "metadata": {},
   "outputs": [],
   "source": [
    "import ssl\n",
    "ssl._create_default_https_context = ssl._create_unverified_context"
   ]
  },
  {
   "cell_type": "code",
   "execution_count": 3,
   "id": "a37f3c3c",
   "metadata": {},
   "outputs": [],
   "source": [
    "# https://github.com/openai/whisper#available-models-and-languages - 139M\n",
    "model = whisper.load_model(\"base\")"
   ]
  },
  {
   "cell_type": "code",
   "execution_count": null,
   "id": "189bec69",
   "metadata": {},
   "outputs": [],
   "source": [
    "res = model.transcribe(\"./audio/testing.wav\")"
   ]
  },
  {
   "cell_type": "code",
   "execution_count": null,
   "id": "736a59bd",
   "metadata": {},
   "outputs": [],
   "source": [
    "res"
   ]
  }
 ],
 "metadata": {
  "kernelspec": {
   "display_name": "Python 3",
   "language": "python",
   "name": "python3"
  },
  "language_info": {
   "codemirror_mode": {
    "name": "ipython",
    "version": 3
   },
   "file_extension": ".py",
   "mimetype": "text/x-python",
   "name": "python",
   "nbconvert_exporter": "python",
   "pygments_lexer": "ipython3",
   "version": "3.10.5"
  }
 },
 "nbformat": 4,
 "nbformat_minor": 5
}
